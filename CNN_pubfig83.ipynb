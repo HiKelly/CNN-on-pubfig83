{
  "nbformat": 4,
  "nbformat_minor": 0,
  "metadata": {
    "colab": {
      "name": "CNN_pubfig83",
      "version": "0.3.2",
      "provenance": [],
      "collapsed_sections": [],
      "include_colab_link": true
    },
    "kernelspec": {
      "name": "python3",
      "display_name": "Python 3"
    },
    "accelerator": "GPU"
  },
  "cells": [
    {
      "cell_type": "markdown",
      "metadata": {
        "id": "view-in-github",
        "colab_type": "text"
      },
      "source": [
        "<a href=\"https://colab.research.google.com/github/MonicaSai7/CNN-on-pubfig83/blob/master/CNN_pubfig83.ipynb\" target=\"_parent\"><img src=\"https://colab.research.google.com/assets/colab-badge.svg\" alt=\"Open In Colab\"/></a>"
      ]
    },
    {
      "cell_type": "code",
      "metadata": {
        "id": "jfAEMJxec9pb",
        "colab_type": "code",
        "colab": {}
      },
      "source": [
        "import os\n",
        "import cv2\n",
        "import numpy as np\n",
        "import tensorflow as tf\n",
        "#!unzip pubfig83 "
      ],
      "execution_count": 0,
      "outputs": []
    },
    {
      "cell_type": "code",
      "metadata": {
        "id": "8GpHz0uqHqdS",
        "colab_type": "code",
        "colab": {}
      },
      "source": [
        "# Run this cell to mount your Google Drive.\n",
        "#from google.colab import drive\n",
        "#drive.mount('/content/drive')"
      ],
      "execution_count": 0,
      "outputs": []
    },
    {
      "cell_type": "code",
      "metadata": {
        "id": "21_Mcy-2dA64",
        "colab_type": "code",
        "colab": {}
      },
      "source": [
        "def get_image_flt(image_path):\n",
        "    image = cv2.imread(image_path, -1)\n",
        "    return image.flatten()"
      ],
      "execution_count": 0,
      "outputs": []
    },
    {
      "cell_type": "code",
      "metadata": {
        "id": "OIRaxL6fqEkX",
        "colab_type": "code",
        "colab": {}
      },
      "source": [
        "def get_subjects(dataset_path):\n",
        "    return os.listdir(dataset_path)"
      ],
      "execution_count": 0,
      "outputs": []
    },
    {
      "cell_type": "code",
      "metadata": {
        "id": "ZUwNZpz2qG_T",
        "colab_type": "code",
        "colab": {}
      },
      "source": [
        "def get_images(subject_path):\n",
        "    return os.listdir(subject_path)"
      ],
      "execution_count": 0,
      "outputs": []
    },
    {
      "cell_type": "code",
      "metadata": {
        "id": "b-RlRavMqIwY",
        "colab_type": "code",
        "colab": {}
      },
      "source": [
        "def read_data(dataset_path):\n",
        "    data = np.zeros((13838, 100*100*3))\n",
        "    labels = dict()\n",
        "    index = 0\n",
        "    \n",
        "    subjects = get_subjects(dataset_path)\n",
        "    #print(subjects)\n",
        "    for subject in subjects:\n",
        "        #print(subject)\n",
        "        subject_path = dataset_path + \"//\" + subject\n",
        "        image_list = get_images(subject_path)\n",
        "        \n",
        "        for image in image_list:\n",
        "            image_path = subject_path + \"//\" + image\n",
        "            data[index, :] = get_image_flt(image_path)\n",
        "            labels[index] = subject\n",
        "            index += 1\n",
        "    \n",
        "    return data, labels"
      ],
      "execution_count": 0,
      "outputs": []
    },
    {
      "cell_type": "code",
      "metadata": {
        "id": "X7kBl87fqK_A",
        "colab_type": "code",
        "colab": {}
      },
      "source": [
        "def array_to_image(image):\n",
        "    return np.reshape(image, (100,100,3))"
      ],
      "execution_count": 0,
      "outputs": []
    },
    {
      "cell_type": "code",
      "metadata": {
        "id": "WK5MVFnMqOfA",
        "colab_type": "code",
        "colab": {}
      },
      "source": [
        "dataset_path = \"pubfig83/\"\n",
        "X, labels = read_data(dataset_path)"
      ],
      "execution_count": 0,
      "outputs": []
    },
    {
      "cell_type": "markdown",
      "metadata": {
        "id": "ucDkpJj1R__C",
        "colab_type": "text"
      },
      "source": [
        "**Get data**"
      ]
    },
    {
      "cell_type": "code",
      "metadata": {
        "id": "acLpCUH6BDi_",
        "colab_type": "code",
        "colab": {}
      },
      "source": [
        "#dataset = pd.read_csv('drive/My Drive/Colab Notebooks/pubfig83.csv')\n",
        "\n",
        "import pandas as pd\n",
        "#labels = pd.read_csv('drive/My Drive/Colab Notebooks/labels.csv')\n",
        "#y = list(labels.keys())\n",
        "y = pd.DataFrame({\"Target\":list(labels.values())})"
      ],
      "execution_count": 0,
      "outputs": []
    },
    {
      "cell_type": "markdown",
      "metadata": {
        "id": "WmszVFSQJH8F",
        "colab_type": "text"
      },
      "source": [
        "**Check sample image**"
      ]
    },
    {
      "cell_type": "code",
      "metadata": {
        "id": "RZTGGecsqkfz",
        "colab_type": "code",
        "colab": {}
      },
      "source": [
        "i = array_to_image(X[2000,:])"
      ],
      "execution_count": 0,
      "outputs": []
    },
    {
      "cell_type": "code",
      "metadata": {
        "id": "PSZfDm2ssOgp",
        "colab_type": "code",
        "outputId": "45746040-45b6-491a-b663-96e474030c91",
        "colab": {
          "base_uri": "https://localhost:8080/",
          "height": 150
        }
      },
      "source": [
        "from google.colab.patches import cv2_imshow\n",
        "cv2_imshow(i)\n",
        "#y_names[2000]\n",
        "y.iloc[2000,:]"
      ],
      "execution_count": 10,
      "outputs": [
        {
          "output_type": "display_data",
          "data": {
            "image/png": "[encoded data removed]",
            "text/plain": [
              "<PIL.Image.Image image mode=RGB size=100x100 at 0x7FE36AD82E80>"
            ]
          },
          "metadata": {
            "tags": []
          }
        },
        {
          "output_type": "execute_result",
          "data": {
            "text/plain": [
              "Target    Hugh Laurie\n",
              "Name: 2000, dtype: object"
            ]
          },
          "metadata": {
            "tags": []
          },
          "execution_count": 10
        }
      ]
    },
    {
      "cell_type": "markdown",
      "metadata": {
        "id": "N5zNJhSjmJ5z",
        "colab_type": "text"
      },
      "source": [
        "**Encode Categorical Variable - Class**"
      ]
    },
    {
      "cell_type": "code",
      "metadata": {
        "id": "J_JtWiy7QK1b",
        "colab_type": "code",
        "colab": {}
      },
      "source": [
        "from sklearn import preprocessing\n",
        "le = preprocessing.LabelEncoder()\n",
        "y_encodings = y.apply(le.fit_transform)"
      ],
      "execution_count": 0,
      "outputs": []
    },
    {
      "cell_type": "markdown",
      "metadata": {
        "id": "gmTWGM1fmSVk",
        "colab_type": "text"
      },
      "source": [
        "**Train and Test Split**"
      ]
    },
    {
      "cell_type": "code",
      "metadata": {
        "id": "ARRUUNN3J-LL",
        "colab_type": "code",
        "colab": {}
      },
      "source": [
        "from sklearn.model_selection import train_test_split\n",
        "X_train, X_test, y_train, y_test = train_test_split(X, y_encodings, test_size = 0.2, random_state = 42)"
      ],
      "execution_count": 0,
      "outputs": []
    },
    {
      "cell_type": "code",
      "metadata": {
        "id": "zCUPx4y8rySC",
        "colab_type": "code",
        "colab": {}
      },
      "source": [
        "del X"
      ],
      "execution_count": 0,
      "outputs": []
    },
    {
      "cell_type": "markdown",
      "metadata": {
        "id": "vE86as2XmW3l",
        "colab_type": "text"
      },
      "source": [
        "**Scaling Pixels**"
      ]
    },
    {
      "cell_type": "code",
      "metadata": {
        "id": "IiohGlOyPSJW",
        "colab_type": "code",
        "colab": {}
      },
      "source": [
        "from sklearn.preprocessing import MinMaxScaler\n",
        "scaler = MinMaxScaler()\n",
        "\n",
        "# Train\n",
        "X_train_scaled = scaler.fit_transform(X_train.astype(np.float64))\n",
        "\n",
        "# Test\n",
        "X_test_scaled = scaler.fit_transform(X_test.astype(np.float64))\n",
        "\n",
        "feature_columns = [tf.feature_column.numeric_column('x', shape = X_train_scaled.shape[1:])]\n"
      ],
      "execution_count": 0,
      "outputs": []
    },
    {
      "cell_type": "code",
      "metadata": {
        "id": "Hsn6ETVAXmYF",
        "colab_type": "code",
        "outputId": "f239454d-d430-42af-bd1d-eceba22099db",
        "colab": {
          "base_uri": "https://localhost:8080/",
          "height": 34
        }
      },
      "source": [
        "len(X_train_scaled)"
      ],
      "execution_count": 15,
      "outputs": [
        {
          "output_type": "execute_result",
          "data": {
            "text/plain": [
              "11070"
            ]
          },
          "metadata": {
            "tags": []
          },
          "execution_count": 15
        }
      ]
    },
    {
      "cell_type": "markdown",
      "metadata": {
        "id": "KUpHgWVomck3",
        "colab_type": "text"
      },
      "source": [
        "**Model Definition**"
      ]
    },
    {
      "cell_type": "code",
      "metadata": {
        "id": "LOOAh4DsRYEX",
        "colab_type": "code",
        "colab": {}
      },
      "source": [
        "def cnn_model_fn(features, labels, mode):\n",
        "    #print(\"Entered\")\n",
        "    \"\"\"Model function for CNN.\"\"\"\n",
        "  # Input Layer\n",
        "    input_layer = tf.reshape(features[\"x\"], [-1, 100, 100, 3])\n",
        "    #print(\"1\")\n",
        "\n",
        "  # Convolutional Layer\n",
        "    conv1 = tf.layers.conv2d( inputs=input_layer, filters=32, kernel_size=[5, 5], padding=\"same\", activation=tf.nn.relu)\n",
        "    #print(\"2\")\n",
        "  # Pooling Layer\n",
        "    pool1 = tf.layers.max_pooling2d(inputs=conv1, pool_size=[2, 2], strides=2)\n",
        "    #print(\"3\")\n",
        "\n",
        "  # Convolutional Layer #2 and Pooling Layer\n",
        "    conv2 = tf.layers.conv2d( inputs=pool1, filters=36, kernel_size=[5, 5], padding=\"same\", activation=tf.nn.relu)\n",
        "    #print(\"4\")\n",
        "    pool2 = tf.layers.max_pooling2d(inputs=conv2, pool_size=[2, 2], strides=2)\n",
        "    #print(\"5\")\n",
        "\n",
        "  # Dense Layer\n",
        "    pool2_flat = tf.reshape(pool2, [-1, 25 * 25 * 36])\n",
        "    #print(\"6\")\n",
        "    dense = tf.layers.dense(inputs=pool2_flat, units=25 * 25 * 36, activation=tf.nn.relu)\n",
        "    #print(\"7\")\n",
        "    dropout = tf.layers.dropout(inputs=dense, rate=0.4, training=mode == tf.estimator.ModeKeys.TRAIN)\n",
        "    #print(\"8\")\n",
        "\n",
        "  # Logits Layer\n",
        "    logits = tf.layers.dense(inputs=dropout, units=10)\n",
        "   # print(\"9\")\n",
        "\n",
        "    predictions = {\n",
        "      # Generate predictions (for PREDICT and EVAL mode)\n",
        "      \"classes\": tf.argmax(input=logits, axis=1),\n",
        "      \"probabilities\": tf.nn.softmax(logits, name=\"softmax_tensor\")\n",
        "  }\n",
        "\n",
        "    if mode == tf.estimator.ModeKeys.PREDICT:\n",
        "        return tf.estimator.EstimatorSpec(mode=mode, predictions=predictions)\n",
        "\n",
        "  # Calculate Loss\n",
        "    loss = tf.losses.sparse_softmax_cross_entropy(labels=labels, logits=logits)\n",
        "\n",
        "  # Configure the Training Op (for TRAIN mode)\n",
        "    if mode == tf.estimator.ModeKeys.TRAIN:\n",
        "        optimizer = tf.train.GradientDescentOptimizer(learning_rate=0.001)\n",
        "        train_op = optimizer.minimize(\n",
        "            loss=loss,\n",
        "            global_step=tf.train.get_global_step())\n",
        "        return tf.estimator.EstimatorSpec(mode=mode, loss=loss, train_op=train_op)\n",
        "\n",
        "  # Add evaluation metrics Evaluation mode\n",
        "    eval_metric_ops = {\n",
        "      \"accuracy\": tf.metrics.accuracy(\n",
        "          labels=labels, predictions=predictions[\"classes\"])}\n",
        "    return tf.estimator.EstimatorSpec(\n",
        "      mode=mode, loss=loss, eval_metric_ops=eval_metric_ops)"
      ],
      "execution_count": 0,
      "outputs": []
    },
    {
      "cell_type": "markdown",
      "metadata": {
        "id": "YiFB4PTkmgeW",
        "colab_type": "text"
      },
      "source": [
        "**Estimator**"
      ]
    },
    {
      "cell_type": "code",
      "metadata": {
        "id": "_0kJ91g7RYC9",
        "colab_type": "code",
        "colab": {}
      },
      "source": [
        "# Create the Estimator\n",
        "pubfig_classifier = tf.estimator.Estimator(\n",
        "    model_fn=cnn_model_fn, model_dir=\"train/pubfig_convnet_model\")"
      ],
      "execution_count": 0,
      "outputs": []
    },
    {
      "cell_type": "markdown",
      "metadata": {
        "id": "4YbMfEAXmjJ_",
        "colab_type": "text"
      },
      "source": [
        "**Predictions log**"
      ]
    },
    {
      "cell_type": "code",
      "metadata": {
        "id": "haji2tyuRX-s",
        "colab_type": "code",
        "colab": {}
      },
      "source": [
        "# Set up logging for predictions\n",
        "tensors_to_log = {\"probabilities\": \"softmax_tensor\"}\n",
        "logging_hook = tf.train.LoggingTensorHook(tensors=tensors_to_log, every_n_iter=50)"
      ],
      "execution_count": 0,
      "outputs": []
    },
    {
      "cell_type": "markdown",
      "metadata": {
        "id": "R31OPk29mnRA",
        "colab_type": "text"
      },
      "source": [
        "**Train Model**"
      ]
    },
    {
      "cell_type": "code",
      "metadata": {
        "id": "aubrwCsSRX9E",
        "colab_type": "code",
        "colab": {}
      },
      "source": [
        "# Train the model\n",
        "train_input_fn = tf.estimator.inputs.numpy_input_fn(\n",
        "    x={\"x\": X_train_scaled},\n",
        "    y=y_train.values,\n",
        "    batch_size=100,\n",
        "    num_epochs=None,\n",
        "    shuffle=True)"
      ],
      "execution_count": 0,
      "outputs": []
    },
    {
      "cell_type": "code",
      "metadata": {
        "id": "Is18H5hsW2gb",
        "colab_type": "code",
        "outputId": "fab8570f-82dc-4099-8044-433f1edb2e9e",
        "colab": {
          "base_uri": "https://localhost:8080/",
          "height": 558
        }
      },
      "source": [
        "pubfig_classifier.train(\n",
        "    input_fn=train_input_fn,\n",
        "    steps=1,\n",
        "    hooks=[logging_hook])"
      ],
      "execution_count": 0,
      "outputs": [
        {
          "output_type": "stream",
          "text": [
            "WARNING: Logging before flag parsing goes to stderr.\n",
            "W0708 11:20:36.078808 140146227369856 deprecation.py:323] From /usr/local/lib/python3.6/dist-packages/tensorflow/python/training/training_util.py:236: Variable.initialized_value (from tensorflow.python.ops.variables) is deprecated and will be removed in a future version.\n",
            "Instructions for updating:\n",
            "Use Variable.read_value. Variables in 2.X are initialized automatically both in eager and graph (inside tf.defun) contexts.\n",
            "W0708 11:20:36.101541 140146227369856 deprecation.py:323] From /usr/local/lib/python3.6/dist-packages/tensorflow_estimator/python/estimator/inputs/queues/feeding_queue_runner.py:62: QueueRunner.__init__ (from tensorflow.python.training.queue_runner_impl) is deprecated and will be removed in a future version.\n",
            "Instructions for updating:\n",
            "To construct input pipelines, use the `tf.data` module.\n",
            "W0708 11:20:36.104342 140146227369856 deprecation.py:323] From /usr/local/lib/python3.6/dist-packages/tensorflow_estimator/python/estimator/inputs/queues/feeding_functions.py:500: add_queue_runner (from tensorflow.python.training.queue_runner_impl) is deprecated and will be removed in a future version.\n",
            "Instructions for updating:\n",
            "To construct input pipelines, use the `tf.data` module.\n",
            "W0708 11:20:36.123285 140146227369856 deprecation.py:323] From <ipython-input-11-26fafbc50d9c>:9: conv2d (from tensorflow.python.layers.convolutional) is deprecated and will be removed in a future version.\n",
            "Instructions for updating:\n",
            "Use `tf.keras.layers.Conv2D` instead.\n",
            "W0708 11:20:36.127855 140146227369856 deprecation.py:506] From /usr/local/lib/python3.6/dist-packages/tensorflow/python/ops/init_ops.py:1251: calling VarianceScaling.__init__ (from tensorflow.python.ops.init_ops) with dtype is deprecated and will be removed in a future version.\n",
            "Instructions for updating:\n",
            "Call initializer instance with the dtype argument instead of passing it to the constructor\n",
            "W0708 11:20:36.381192 140146227369856 deprecation.py:323] From <ipython-input-11-26fafbc50d9c>:12: max_pooling2d (from tensorflow.python.layers.pooling) is deprecated and will be removed in a future version.\n",
            "Instructions for updating:\n",
            "Use keras.layers.MaxPooling2D instead.\n",
            "W0708 11:20:36.558846 140146227369856 deprecation.py:323] From <ipython-input-11-26fafbc50d9c>:24: dense (from tensorflow.python.layers.core) is deprecated and will be removed in a future version.\n",
            "Instructions for updating:\n",
            "Use keras.layers.dense instead.\n",
            "W0708 11:20:36.888287 140146227369856 deprecation.py:323] From <ipython-input-11-26fafbc50d9c>:26: dropout (from tensorflow.python.layers.core) is deprecated and will be removed in a future version.\n",
            "Instructions for updating:\n",
            "Use keras.layers.dropout instead.\n",
            "W0708 11:20:36.997809 140146227369856 deprecation.py:323] From /usr/local/lib/python3.6/dist-packages/tensorflow/python/ops/losses/losses_impl.py:121: add_dispatch_support.<locals>.wrapper (from tensorflow.python.ops.array_ops) is deprecated and will be removed in a future version.\n",
            "Instructions for updating:\n",
            "Use tf.where in 2.0, which has the same broadcast rule as np.where\n",
            "W0708 11:20:38.829643 140146227369856 deprecation.py:323] From /usr/local/lib/python3.6/dist-packages/tensorflow/python/training/monitored_session.py:875: start_queue_runners (from tensorflow.python.training.queue_runner_impl) is deprecated and will be removed in a future version.\n",
            "Instructions for updating:\n",
            "To construct input pipelines, use the `tf.data` module.\n"
          ],
          "name": "stderr"
        }
      ]
    },
    {
      "cell_type": "markdown",
      "metadata": {
        "id": "fQv2oTvHmtid",
        "colab_type": "text"
      },
      "source": [
        "**Evaluate Model**"
      ]
    },
    {
      "cell_type": "code",
      "metadata": {
        "id": "9ZyJlVI8RX4T",
        "colab_type": "code",
        "colab": {}
      },
      "source": [
        "# Evaluate the model and print results\n",
        "eval_input_fn = tf.estimator.inputs.numpy_input_fn(\n",
        "    x={\"x\": X_test_scaled},\n",
        "    y=y_test.values,\n",
        "    num_epochs=1,\n",
        "    shuffle=False)\n",
        "eval_results = pubfig_classifier.evaluate(input_fn=eval_input_fn)\n",
        "print(eval_results)"
      ],
      "execution_count": 0,
      "outputs": []
    },
    {
      "cell_type": "code",
      "metadata": {
        "id": "sfXZC5GsRXVW",
        "colab_type": "code",
        "colab": {}
      },
      "source": [
        ""
      ],
      "execution_count": 0,
      "outputs": []
    },
    {
      "cell_type": "markdown",
      "metadata": {
        "id": "YKULFaRzRpYh",
        "colab_type": "text"
      },
      "source": [
        "**Save data and labels as CSV files**\n"
      ]
    },
    {
      "cell_type": "code",
      "metadata": {
        "id": "5EkZk4xSG8jM",
        "colab_type": "code",
        "colab": {}
      },
      "source": [
        "import csv\n",
        "\n",
        "with open('labels.csv', 'w') as f:\n",
        "    for key in labels.keys():\n",
        "        f.write(\"%s,%s\\n\"%(key,labels[key]))"
      ],
      "execution_count": 0,
      "outputs": []
    },
    {
      "cell_type": "code",
      "metadata": {
        "id": "zLgaTpZwf0bw",
        "colab_type": "code",
        "colab": {}
      },
      "source": [
        "np.savetxt(\"pubfig83.csv\", data, delimiter=\",\")"
      ],
      "execution_count": 0,
      "outputs": []
    },
    {
      "cell_type": "markdown",
      "metadata": {
        "id": "aEZI4aBKR6Ai",
        "colab_type": "text"
      },
      "source": [
        "**Download saved CSV files**"
      ]
    },
    {
      "cell_type": "code",
      "metadata": {
        "id": "ORnURMnfNtvu",
        "colab_type": "code",
        "outputId": "19bd6b5b-feb7-4274-9338-91849ae34e9d",
        "colab": {
          "base_uri": "https://localhost:8080/",
          "height": 435
        }
      },
      "source": [
        "from google.colab import files\n",
        "files.download('pubfig83.csv')"
      ],
      "execution_count": 0,
      "outputs": [
        {
          "output_type": "stream",
          "text": [
            "----------------------------------------\n",
            "Exception happened during processing of request from ('::ffff:127.0.0.1', 41614, 0, 0)\n",
            "Traceback (most recent call last):\n",
            "  File \"/usr/lib/python3.6/socketserver.py\", line 320, in _handle_request_noblock\n",
            "    self.process_request(request, client_address)\n",
            "  File \"/usr/lib/python3.6/socketserver.py\", line 351, in process_request\n",
            "    self.finish_request(request, client_address)\n",
            "  File \"/usr/lib/python3.6/socketserver.py\", line 364, in finish_request\n",
            "    self.RequestHandlerClass(request, client_address, self)\n",
            "  File \"/usr/lib/python3.6/socketserver.py\", line 724, in __init__\n",
            "    self.handle()\n",
            "  File \"/usr/lib/python3.6/http/server.py\", line 418, in handle\n",
            "    self.handle_one_request()\n",
            "  File \"/usr/lib/python3.6/http/server.py\", line 406, in handle_one_request\n",
            "    method()\n",
            "  File \"/usr/lib/python3.6/http/server.py\", line 639, in do_GET\n",
            "    self.copyfile(f, self.wfile)\n",
            "  File \"/usr/lib/python3.6/http/server.py\", line 800, in copyfile\n",
            "    shutil.copyfileobj(source, outputfile)\n",
            "  File \"/usr/lib/python3.6/shutil.py\", line 82, in copyfileobj\n",
            "    fdst.write(buf)\n",
            "  File \"/usr/lib/python3.6/socketserver.py\", line 803, in write\n",
            "    self._sock.sendall(b)\n",
            "ConnectionResetError: [Errno 104] Connection reset by peer\n",
            "----------------------------------------\n"
          ],
          "name": "stderr"
        }
      ]
    }
  ]
}